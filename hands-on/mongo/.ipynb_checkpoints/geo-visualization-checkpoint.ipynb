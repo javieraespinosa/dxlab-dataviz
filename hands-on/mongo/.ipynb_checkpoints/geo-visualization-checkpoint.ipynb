{
 "cells": [
  {
   "cell_type": "markdown",
   "metadata": {
    "collapsed": false
   },
   "source": [
    "# Visualizing Spatial Data "
   ]
  },
  {
   "cell_type": "markdown",
   "metadata": {},
   "source": [
    "## Introduction"
   ]
  },
  {
   "cell_type": "markdown",
   "metadata": {},
   "source": [
    "The objective of this exercise is to show you how to programmatically build <b> map visualizations </b> using <b>spatial data</b> stored in MongoDB.\n",
    "\n",
    "<b>Requirements</b>\n",
    "<ul>\n",
    "    <li> <a href=\"https://www.continuum.io\" target=\"_blank\">Anaconda Python 2.7</a> </li>\n",
    "    <li> <a href=\"https://plot.ly/python/getting-started\" target=\"_blank\">Plotly</a> </li>\n",
    "    <li> <a href=\"https://api.mongodb.com/python/current\" target=\"_blank\">PyMongo</a> </li>\n",
    "    <li> Databases from the <a href=\"http://espinosa-oviedo.com/big-data-visualization/sharding-data-collections-with-mongodb/\" target=\"_blank\">sharding exercise</a> </li>\n",
    "</ul>\n",
    "\n",
    "<b>Execution Environment</b>\n",
    "\n",
    "This exercise is intented to be executed as a <a href=\"http://jupyter.org\" target=\"_blank\">Jupyter Notebook</a> (<em>already included in Anaconda Python</em>). You can launch jupyter by executing the following command:\n",
    "\n",
    "    jupyter notebook\n",
    "    \n",
    "Then, either open this notebook in your web browser or <em>copy/paste</em> the code into a <b>new notebook</b>.\n",
    "\n"
   ]
  },
  {
   "cell_type": "markdown",
   "metadata": {},
   "source": [
    "## Connecting and Querying MongoDB\n",
    "\n"
   ]
  },
  {
   "cell_type": "markdown",
   "metadata": {},
   "source": [
    "<li>Connecting to a MongoDB instance</li>"
   ]
  },
  {
   "cell_type": "code",
   "execution_count": 1,
   "metadata": {
    "collapsed": false
   },
   "outputs": [
    {
     "data": {
      "text/plain": [
       "MongoClient(host=['localhost:27019'], document_class=dict, tz_aware=False, connect=True)"
      ]
     },
     "execution_count": 1,
     "metadata": {},
     "output_type": "execute_result"
    }
   ],
   "source": [
    "import pymongo\n",
    "\n",
    "mongo = pymongo.MongoClient(host=\"localhost\", port=27019)\n",
    "mongo"
   ]
  },
  {
   "cell_type": "markdown",
   "metadata": {},
   "source": [
    "<li>Count the number of documents in collection <b>mydb.cities</b> (cf. <a href=\"http://espinosa-oviedo.com/big-data-visualization/sharding-data-collections-with-mongodb/\" target=\"_blank\">sharding exercise</a>).</li>"
   ]
  },
  {
   "cell_type": "code",
   "execution_count": 2,
   "metadata": {
    "collapsed": false
   },
   "outputs": [
    {
     "data": {
      "text/plain": [
       "29353"
      ]
     },
     "execution_count": 2,
     "metadata": {},
     "output_type": "execute_result"
    }
   ],
   "source": [
    "cities = mongo['mydb']['cities'].find()\n",
    "cities.count()"
   ]
  },
  {
   "cell_type": "markdown",
   "metadata": {},
   "source": [
    "<li>Count the number of <b>cities per state</b>.</li>\n"
   ]
  },
  {
   "cell_type": "code",
   "execution_count": null,
   "metadata": {
    "collapsed": false
   },
   "outputs": [],
   "source": [
    "cities = mongo['mydb']['cities'].find()\n",
    "states = {}\n",
    "\n",
    "for city in cities:\n",
    "    s = city['state']\n",
    "    if s in states:\n",
    "        states[s] += 1\n",
    "    else:\n",
    "        states[s] = 1\n",
    "\n",
    "states"
   ]
  },
  {
   "cell_type": "markdown",
   "metadata": {},
   "source": [
    "## Plotting Maps with Plotly \n"
   ]
  },
  {
   "cell_type": "markdown",
   "metadata": {},
   "source": [
    "<li>Map showing the number of cities per state.</li>"
   ]
  },
  {
   "cell_type": "code",
   "execution_count": null,
   "metadata": {
    "collapsed": false
   },
   "outputs": [],
   "source": [
    "import plotly as plotly\n",
    "from plotly.graph_objs import *\n",
    "\n",
    "plotly.offline.init_notebook_mode()\n",
    "\n",
    "data = [dict(\n",
    "        type='choropleth',\n",
    "        locations= states.keys(), # states' names   \n",
    "        z= states.values(),       # states' number of cities\n",
    "        locationmode= 'USA-states'\n",
    ")]\n",
    "\n",
    "layout = dict(\n",
    "    title = 'Number of cities in US per state',\n",
    "    geo = dict(scope='usa')\n",
    ")\n",
    "\n",
    "fig = dict( data=data, layout=layout )\n",
    "plotly.offline.iplot( fig )"
   ]
  },
  {
   "cell_type": "markdown",
   "metadata": {},
   "source": [
    "<li>Dot map showing the US cities</li>"
   ]
  },
  {
   "cell_type": "code",
   "execution_count": null,
   "metadata": {
    "collapsed": false
   },
   "outputs": [],
   "source": [
    "lons = []\n",
    "lats = []\n",
    "text = []\n",
    "\n",
    "for city in mongo['mydb']['cities'].find():\n",
    "    lons.append( city['loc'][0] )\n",
    "    lats.append( city['loc'][1] )\n",
    "    text.append( city['city'] )\n",
    "    \n",
    "data = [dict(\n",
    "        type = 'scattergeo',\n",
    "        locationmode = 'USA-states',\n",
    "        lon = lons,\n",
    "        lat = lats,\n",
    "        text = text,\n",
    "        mode = 'markers',\n",
    "        marker = dict(\n",
    "            size = 1\n",
    "        )\n",
    ")]\n",
    "\n",
    "layout = dict(\n",
    "        title = 'US cities',\n",
    "        geo = dict(\n",
    "            scope='usa',\n",
    "            projection= dict( type='albers usa' )\n",
    "        )\n",
    ")\n",
    "\n",
    "fig = dict( data=data, layout=layout )\n",
    "plotly.offline.iplot( fig )"
   ]
  },
  {
   "cell_type": "markdown",
   "metadata": {},
   "source": [
    "## TO DO\n",
    "\n",
    "<ol>\n",
    "    <li>Plot multiple maps showing the contens of the <a href=\"http://espinosa-oviedo.com/big-data-visualization/sharding-data-collections-with-mongodb/\" target=\"_blank\">sharded cluster</a> defined in the previous exercise</li>\n",
    "    <li>Verify the distribution of the data according to each sharding technique</li>\n",
    "</ol>\n",
    "\n",
    "\n",
    "\n"
   ]
  }
 ],
 "metadata": {
  "kernelspec": {
   "display_name": "Python 2",
   "language": "python",
   "name": "python2"
  },
  "language_info": {
   "codemirror_mode": {
    "name": "ipython",
    "version": 2
   },
   "file_extension": ".py",
   "mimetype": "text/x-python",
   "name": "python",
   "nbconvert_exporter": "python",
   "pygments_lexer": "ipython2",
   "version": "2.7.6"
  }
 },
 "nbformat": 4,
 "nbformat_minor": 0
}
